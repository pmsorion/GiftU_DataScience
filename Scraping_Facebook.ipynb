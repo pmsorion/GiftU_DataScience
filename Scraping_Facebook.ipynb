{
 "cells": [
  {
   "cell_type": "markdown",
   "metadata": {},
   "source": [
    "# Importando Librerias"
   ]
  },
  {
   "cell_type": "code",
   "execution_count": 1,
   "metadata": {},
   "outputs": [],
   "source": [
    "import requests\n",
    "from bs4 import BeautifulSoup"
   ]
  },
  {
   "cell_type": "markdown",
   "metadata": {},
   "source": [
    "## Solicitudes web"
   ]
  },
  {
   "cell_type": "code",
   "execution_count": 2,
   "metadata": {},
   "outputs": [],
   "source": [
    "home_url = 'https://mobile.facebook.com/groups/'\n",
    "home_url2 = 'https://facebook.com/groups'\n",
    "response = requests.get(home_url)\n",
    "response2 = requests.get(home_url2)\n",
    "#response??"
   ]
  },
  {
   "cell_type": "code",
   "execution_count": 3,
   "metadata": {},
   "outputs": [
    {
     "name": "stdout",
     "output_type": "stream",
     "text": [
      "['__attrs__', '__bool__', '__class__', '__delattr__', '__dict__', '__dir__', '__doc__', '__enter__', '__eq__', '__exit__', '__format__', '__ge__', '__getattribute__', '__getstate__', '__gt__', '__hash__', '__init__', '__init_subclass__', '__iter__', '__le__', '__lt__', '__module__', '__ne__', '__new__', '__nonzero__', '__reduce__', '__reduce_ex__', '__repr__', '__setattr__', '__setstate__', '__sizeof__', '__str__', '__subclasshook__', '__weakref__', '_content', '_content_consumed', '_next', 'apparent_encoding', 'close', 'connection', 'content', 'cookies', 'elapsed', 'encoding', 'headers', 'history', 'is_permanent_redirect', 'is_redirect', 'iter_content', 'iter_lines', 'json', 'links', 'next', 'ok', 'raise_for_status', 'raw', 'reason', 'request', 'status_code', 'text', 'url']\n"
     ]
    }
   ],
   "source": [
    "print(dir(response))"
   ]
  },
  {
   "cell_type": "code",
   "execution_count": 4,
   "metadata": {},
   "outputs": [
    {
     "name": "stdout",
     "output_type": "stream",
     "text": [
      "200\n"
     ]
    }
   ],
   "source": [
    "print(response.status_code)"
   ]
  },
  {
   "cell_type": "code",
   "execution_count": 5,
   "metadata": {},
   "outputs": [
    {
     "name": "stdout",
     "output_type": "stream",
     "text": [
      "{'X-Frame-Options': 'DENY', 'X-XSS-Protection': '0', 'Content-Type': 'text/html; charset=utf-8', 'X-Content-Type-Options': 'nosniff', 'Strict-Transport-Security': 'max-age=15552000; preload', 'Set-Cookie': 'datr=r7-BXz9RwAj_RutNjF91VUvM; expires=Mon, 10-Oct-2022 14:05:35 GMT; Max-Age=63072000; path=/; domain=.facebook.com; secure; httponly', 'Content-Encoding': 'gzip', 'Expires': 'Sat, 01 Jan 2000 00:00:00 GMT', 'Cache-Control': 'private, no-cache, no-store, must-revalidate', 'Vary': 'Accept-Encoding', 'Pragma': 'no-cache', 'X-FB-Debug': 'N7dRP4SdjvOsW4lF9ljbmfUpOvGYEukLQqsmkXaZMC9dSOCgsy25VIPXpS9OI18S2pJ24EHGhjL8BR3dIhomdA==', 'Date': 'Sat, 10 Oct 2020 14:05:35 GMT', 'Alt-Svc': 'h3-29=\":443\"; ma=3600,h3-27=\":443\"; ma=3600', 'Transfer-Encoding': 'chunked', 'Connection': 'keep-alive'}\n"
     ]
    }
   ],
   "source": [
    "print(response.headers)"
   ]
  },
  {
   "cell_type": "code",
   "execution_count": 6,
   "metadata": {},
   "outputs": [
    {
     "name": "stdout",
     "output_type": "stream",
     "text": [
      "datr=r7-BXz9RwAj_RutNjF91VUvM; expires=Mon, 10-Oct-2022 14:05:35 GMT; Max-Age=63072000; path=/; domain=.facebook.com; secure; httponly\n"
     ]
    }
   ],
   "source": [
    "print(response.headers['Set-Cookie'])"
   ]
  },
  {
   "cell_type": "code",
   "execution_count": 7,
   "metadata": {},
   "outputs": [
    {
     "name": "stdout",
     "output_type": "stream",
     "text": [
      "<?xml version=\"1.0\" encoding=\"utf-8\"?>\n",
      "<!DOCTYPE html PUBLIC \"-//WAPFORUM//DTD XHTML Mobile 1.0//EN\" \"http://www.wapforum.org/DTD/xhtml-mobile10.dtd\"><html xmlns=\"http://www.w3.org/1999/xhtml\"><head><title>Grupos</title><meta name=\"referrer\" content=\"default\" id=\"meta_referrer\" /><style type=\"text/css\" nonce=\"c0KItsC6\">/*<![CDATA[*/.s{display:inline-block;}.s img{padding-top:2px;}.s a{color:#5890ff;font-weight:bold;}.b .m{border:0;border-collapse:collapse;margin:0;padding:0;width:100%;}.b .m tbody{vertical-align:top;}.b .m td{padding:0;}.b .m td.q{padding:4px;}.b .o{width:100%;}.n{background:#fff;}.b .q{padding:4px;}.p{text-align:center;}.r .t{display:inline-block;margin-right:4px;}.b .r .t{float:left;}.b .r .v{display:table-cell;}.l{border:0;display:inline-block;vertical-align:top;}i.l u{position:absolute;width:0;height:0;overflow:hidden;}.b a,.b a:visited{color:#3b5998;text-decoration:none;}.b a:focus,.b a:hover{background-color:#3b5998;color:#fff;}.w{clear:both;}body{text-align:left;direction:ltr;}body,tr,input,textarea,button{font-family:sans-serif;}body,p,figure,h1,h2,h3,h4,h5,h6,ul,ol,li,dl,dd,dt{margin:0;padding:0;}h1,h2,h3,h4,h5,h6{font-size:1em;font-weight:bold;}ul,ol{list-style:none;}article,aside,figcaption,figure,footer,header,nav,section{display:block;}.i{background-color:#3b5998;}.e{background:#dadde1;}#page{position:relative;}.k{padding-bottom:4px;padding-top:4px;}.j{padding:2px 3px;}body,tr,input,textarea,.f{font-size:medium;}/*]]>*/</style><link rel=\"canonical\" href=\"https://www.facebook.com/groups/\" /><link rel=\"manifest\" href=\"/data/manifest/\" crossorigin=\"use-credentials\" /></head><body tabindex=\"0\" class=\"b c d e\"><div class=\"f\"><div id=\"viewport\"><div class=\"g h\" id=\"MChromeHeader\"><div class=\"i j\" id=\"header\"><h1 style=\"display:block;height:0;overflow:hidden;position:absolute;width:0;padding:0\">Facebook</h1><a href=\"/home.php?refid=27\"><img src=\"https://static.xx.fbcdn.net/rsrc.php/v3/y8/r/k97pj8-or6s.png\" width=\"77\" height=\"16\" class=\"k l\" alt=\"facebook\" /></a></div></div><div id=\"objects_container\"><div class=\"e\" id=\"root\"><table class=\"m\"><tbody><tr><td class=\"n o\"><div class=\"p q\"><div class=\"r s\"><img src=\"https://static.xx.fbcdn.net/rsrc.php/v3/yT/r/XPgmUEv9W_C.png\" width=\"12\" height=\"12\" class=\"t u l\" /><a href=\"/groups/create/?create_ref=groups_tab&amp;refid=27\" class=\"v\">Crear nuevo grupo</a><div class=\"w\"></div></div></div></td></tr></tbody></table><div style=\"display:none\"></div><span><img src=\"https://facebook.com/security/hsts-pixel.gif?c=3.2\" width=\"0\" height=\"0\" style=\"display:none\" /></span></div></div><div></div></div></div></body></html>\n"
     ]
    }
   ],
   "source": [
    "print(response.text)"
   ]
  },
  {
   "cell_type": "markdown",
   "metadata": {},
   "source": [
    "# Extracción de informacion HTML"
   ]
  },
  {
   "cell_type": "code",
   "execution_count": 8,
   "metadata": {},
   "outputs": [
    {
     "name": "stdout",
     "output_type": "stream",
     "text": [
      "Grupos\n"
     ]
    }
   ],
   "source": [
    "import bs4\n",
    "soup1 = bs4.BeautifulSoup(response.text, 'html.parser')\n",
    "print(soup1.title.text)"
   ]
  },
  {
   "cell_type": "code",
   "execution_count": 9,
   "metadata": {},
   "outputs": [
    {
     "name": "stdout",
     "output_type": "stream",
     "text": [
      "Encuentra grupos y comunidades con los que conectarte | Facebook\n"
     ]
    }
   ],
   "source": [
    "soup2 = bs4.BeautifulSoup(response2.text, 'html.parser')\n",
    "print(soup2.title.text)"
   ]
  },
  {
   "cell_type": "code",
   "execution_count": 10,
   "metadata": {},
   "outputs": [
    {
     "name": "stdout",
     "output_type": "stream",
     "text": [
      "default\n"
     ]
    }
   ],
   "source": [
    "print(soup1.select('meta[name=referrer]')[0]['content'])"
   ]
  },
  {
   "cell_type": "code",
   "execution_count": 11,
   "metadata": {},
   "outputs": [
    {
     "name": "stdout",
     "output_type": "stream",
     "text": [
      "default\n"
     ]
    }
   ],
   "source": [
    "print(soup2.select('meta[name=referrer]')[0]['content'])"
   ]
  },
  {
   "cell_type": "code",
   "execution_count": 12,
   "metadata": {},
   "outputs": [],
   "source": [
    "from facebook_scraper import get_posts"
   ]
  },
  {
   "cell_type": "code",
   "execution_count": 25,
   "metadata": {},
   "outputs": [
    {
     "name": "stdout",
     "output_type": "stream",
     "text": [
      "OBSIDIANAS, UN REGALO MUY ESPECIAL ✨\n",
      "\n",
      "Recomendamos\n",
      "¡SEMANA DE SORTEOS! 🎁\n",
      "\n",
      "Gana alguno de estos Sets d\n",
      "¡SEMANA DE SORTEOS! 💝\n",
      "\n",
      "Gana alguno de estos Electr\n",
      "RELOJ SMART PRIXTON\n",
      "\n",
      "Desde 100 USD con grabado pos\n",
      "PISA PAPELES 300 GRAMOS\n",
      "\n",
      "Desde 90 USD laminado en \n",
      "GODIVA DELUXE CHOCOLATES & DOM PÉRIGNON\n",
      "\n",
      "Desde 790\n",
      "GOLF PUTTER SET\n",
      "\n",
      "Desde 110 USD con grabado en la c\n",
      "DECISION MAKER\n",
      "\n",
      "Desde 70 USD con grabado en la bas\n",
      "WORLD TIME FOR CEO\n",
      "\n",
      "Desde 190 USD con grabado en l\n",
      "GLOBO MAGNÉTICO\n",
      "\n",
      "Desde 90 USD con grabado en la ba\n"
     ]
    }
   ],
   "source": [
    "for post in get_posts('regalos', pages=3):\n",
    "    print(post['text'][:50])"
   ]
  },
  {
   "cell_type": "code",
   "execution_count": null,
   "metadata": {},
   "outputs": [],
   "source": []
  },
  {
   "cell_type": "code",
   "execution_count": 26,
   "metadata": {},
   "outputs": [],
   "source": [
    "groups_links = soup2.select('.oajrlxb2')\n",
    "groups = [group['href'] for group in groups_links]\n",
    "\n",
    "for group in groups:\n",
    "    print(group)"
   ]
  },
  {
   "cell_type": "code",
   "execution_count": 76,
   "metadata": {},
   "outputs": [],
   "source": [
    "def login(self, email: str, password: str):\n",
    "    login_page = self.get(self.base_url)\n",
    "    login_action = login_page.html.find('#login_form', first=True).attrs.get('action')\n",
    "\n",
    "    response = self.session.post(\n",
    "        utils.urljoin(self.base_url, login_action), data={'email': email, 'pass': password}\n",
    "    )\n",
    "    response_text = response.html.find('#viewport', first=True).text\n",
    "\n",
    "    logger.debug(\"Login response text: %s\", response_text)\n",
    "\n",
    "    login_error = response.html.find('#login_error', first=True)\n",
    "    if login_error:\n",
    "        logger.error(\"Login error: %s\", login_error.text)\n",
    "\n",
    "    if 'c_user' not in self.session.cookies:\n",
    "        warnings.warn('login unsuccessful')"
   ]
  },
  {
   "cell_type": "code",
   "execution_count": 77,
   "metadata": {},
   "outputs": [
    {
     "ename": "NameError",
     "evalue": "name 'self' is not defined",
     "output_type": "error",
     "traceback": [
      "\u001b[0;31m---------------------------------------------------------------------------\u001b[0m",
      "\u001b[0;31mNameError\u001b[0m                                 Traceback (most recent call last)",
      "\u001b[0;32m<ipython-input-77-2f2b80e56b7d>\u001b[0m in \u001b[0;36m<module>\u001b[0;34m\u001b[0m\n\u001b[0;32m----> 1\u001b[0;31m \u001b[0mlogin\u001b[0m\u001b[0;34m(\u001b[0m\u001b[0;34m'garciafran@hotmail.com'\u001b[0m\u001b[0;34m,\u001b[0m \u001b[0;34m'Soporte2014'\u001b[0m\u001b[0;34m)\u001b[0m\u001b[0;34m\u001b[0m\u001b[0;34m\u001b[0m\u001b[0m\n\u001b[0m",
      "\u001b[0;32m<ipython-input-76-c3b202d1b630>\u001b[0m in \u001b[0;36mlogin\u001b[0;34m(email, password)\u001b[0m\n\u001b[1;32m      1\u001b[0m \u001b[0;32mdef\u001b[0m \u001b[0mlogin\u001b[0m\u001b[0;34m(\u001b[0m\u001b[0memail\u001b[0m\u001b[0;34m:\u001b[0m \u001b[0mstr\u001b[0m\u001b[0;34m,\u001b[0m \u001b[0mpassword\u001b[0m\u001b[0;34m:\u001b[0m \u001b[0mstr\u001b[0m\u001b[0;34m)\u001b[0m\u001b[0;34m:\u001b[0m\u001b[0;34m\u001b[0m\u001b[0;34m\u001b[0m\u001b[0m\n\u001b[0;32m----> 2\u001b[0;31m     \u001b[0mlogin_page\u001b[0m \u001b[0;34m=\u001b[0m \u001b[0mself\u001b[0m\u001b[0;34m.\u001b[0m\u001b[0mget\u001b[0m\u001b[0;34m(\u001b[0m\u001b[0mself\u001b[0m\u001b[0;34m.\u001b[0m\u001b[0mbase_url\u001b[0m\u001b[0;34m)\u001b[0m\u001b[0;34m\u001b[0m\u001b[0;34m\u001b[0m\u001b[0m\n\u001b[0m\u001b[1;32m      3\u001b[0m     \u001b[0mlogin_action\u001b[0m \u001b[0;34m=\u001b[0m \u001b[0mlogin_page\u001b[0m\u001b[0;34m.\u001b[0m\u001b[0mhtml\u001b[0m\u001b[0;34m.\u001b[0m\u001b[0mfind\u001b[0m\u001b[0;34m(\u001b[0m\u001b[0;34m'#login_form'\u001b[0m\u001b[0;34m,\u001b[0m \u001b[0mfirst\u001b[0m\u001b[0;34m=\u001b[0m\u001b[0;32mTrue\u001b[0m\u001b[0;34m)\u001b[0m\u001b[0;34m.\u001b[0m\u001b[0mattrs\u001b[0m\u001b[0;34m.\u001b[0m\u001b[0mget\u001b[0m\u001b[0;34m(\u001b[0m\u001b[0;34m'action'\u001b[0m\u001b[0;34m)\u001b[0m\u001b[0;34m\u001b[0m\u001b[0;34m\u001b[0m\u001b[0m\n\u001b[1;32m      4\u001b[0m \u001b[0;34m\u001b[0m\u001b[0m\n\u001b[1;32m      5\u001b[0m     response = self.session.post(\n",
      "\u001b[0;31mNameError\u001b[0m: name 'self' is not defined"
     ]
    }
   ],
   "source": [
    "login(self.['garciafran@hotmail.com', 'Soporte2014'])"
   ]
  },
  {
   "cell_type": "code",
   "execution_count": null,
   "metadata": {},
   "outputs": [],
   "source": []
  },
  {
   "cell_type": "code",
   "execution_count": null,
   "metadata": {},
   "outputs": [],
   "source": []
  },
  {
   "cell_type": "code",
   "execution_count": 27,
   "metadata": {},
   "outputs": [
    {
     "name": "stdout",
     "output_type": "stream",
     "text": [
      "Recetas de bocadillos deliciosos que todos van a amar.😍👇😚\n",
      " En cada foto hay una receta. Yo te regalo a ti la receta y tú nos regalas un Ok, así sabemos que Te...\n",
      "¡10 Opciones de Almuerzo para bajar de peso! Di HOLA para saber que te gustan mis recetas.\n",
      "para preparar algo diferente !!!\n",
      "Descubre las maravillosas variedades de recetas para preparar en casa!  𝗡𝗼 𝗼𝗹𝘃𝗶𝗱𝗲𝘀 𝗾𝘂𝗲 𝗲𝘀 𝗶𝗺𝗽𝗼𝗿𝘁𝗮𝗻𝘁𝗲 𝗾𝘂𝗲 𝗺𝗲 𝗱𝗲𝗷𝗲𝘀 𝘂𝗻 𝗢𝗞, 𝗽𝗮𝗿𝗮 𝘀𝗮𝗯𝗲𝗿 𝗾𝘂𝗲 𝘁𝗲 𝗲𝘀𝘁á𝗻 𝗹𝗹𝗲𝗴𝗮𝗻𝗱𝗼 𝗹𝗮𝘀...\n",
      "Recetas de aderezos y marinados 😍🍲🥘 Estamos borrando seguidores inactivos, di hola para saber que te llegan las recetas!! ESTAMOS CREANDO UN GRUPO TOTALMENTE...\n",
      "RECETAS DE TRIPITAS para todo el año!🤤😋🍖 Estamos BORRANDO a seguidores inactivos. Di Hola para saber que te llegan las recetas.\n",
      " ESTAMOS CREANDO UN GRUPO...\n"
     ]
    }
   ],
   "source": [
    "class FBGroupScraper:\n",
    "\n",
    "    def __init__(self, group_id):\n",
    "        self.group_id = group_id\n",
    "        self.page_url = \"https://mobile.facebook.com/groups/\" + self.group_id\n",
    "        self.page_content = \"\"\n",
    "\n",
    "    def get_page_content(self):\n",
    "        self.page_content = requests.get(self.page_url).text\n",
    "\n",
    "    def parse(self):\n",
    "        soup = BeautifulSoup(self.page_content, \"html.parser\")\n",
    "        feed_container = soup.find(id=\"m_group_stories_container\").find_all(\"p\")\n",
    "        for i in feed_container:\n",
    "            print(i.text)\n",
    "\n",
    "group_id = \"1642671525881425\"\n",
    "d = FBGroupScraper(group_id)\n",
    "d.get_page_content()\n",
    "d.parse()"
   ]
  },
  {
   "cell_type": "code",
   "execution_count": 71,
   "metadata": {
    "scrolled": true
   },
   "outputs": [
    {
     "name": "stdout",
     "output_type": "stream",
     "text": [
      "usage: facebook-scraper [-h] [-f FILENAME] [-p PAGES] [-g] [-v]\r\n",
      "                        [--encoding ENCODING]\r\n",
      "                        account\r\n",
      "\r\n",
      "Scrape Facebook public pages without an API key\r\n",
      "\r\n",
      "positional arguments:\r\n",
      "  account               Facebook account\r\n",
      "\r\n",
      "optional arguments:\r\n",
      "  -h, --help            show this help message and exit\r\n",
      "  -f FILENAME, --filename FILENAME\r\n",
      "                        Output filename\r\n",
      "  -p PAGES, --pages PAGES\r\n",
      "                        Number of pages to download\r\n",
      "  -g, --group           Use group scraper\r\n",
      "  -v, --verbose         Enable logging\r\n",
      "  --encoding ENCODING   Encoding for the output file\r\n"
     ]
    }
   ],
   "source": [
    "!facebook-scraper --help"
   ]
  },
  {
   "cell_type": "code",
   "execution_count": null,
   "metadata": {},
   "outputs": [],
   "source": []
  }
 ],
 "metadata": {
  "kernelspec": {
   "display_name": "Python 3",
   "language": "python",
   "name": "python3"
  },
  "language_info": {
   "codemirror_mode": {
    "name": "ipython",
    "version": 3
   },
   "file_extension": ".py",
   "mimetype": "text/x-python",
   "name": "python",
   "nbconvert_exporter": "python",
   "pygments_lexer": "ipython3",
   "version": "3.8.5"
  }
 },
 "nbformat": 4,
 "nbformat_minor": 4
}
